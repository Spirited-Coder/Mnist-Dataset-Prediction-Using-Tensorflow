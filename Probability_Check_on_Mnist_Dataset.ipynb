{
  "nbformat": 4,
  "nbformat_minor": 0,
  "metadata": {
    "colab": {
      "provenance": [],
      "authorship_tag": "ABX9TyPmBpPUsM+1YZbyPTaDJlHA",
      "include_colab_link": true
    },
    "kernelspec": {
      "name": "python3",
      "display_name": "Python 3"
    },
    "language_info": {
      "name": "python"
    }
  },
  "cells": [
    {
      "cell_type": "markdown",
      "metadata": {
        "id": "view-in-github",
        "colab_type": "text"
      },
      "source": [
        "<a href=\"https://colab.research.google.com/github/Spirited-Coder/Mnist-Dataset-Prediction-Using-Tensorflow/blob/main/Probability_Check_on_Mnist_Dataset.ipynb\" target=\"_parent\"><img src=\"https://colab.research.google.com/assets/colab-badge.svg\" alt=\"Open In Colab\"/></a>"
      ]
    },
    {
      "cell_type": "code",
      "execution_count": 1,
      "metadata": {
        "colab": {
          "base_uri": "https://localhost:8080/"
        },
        "id": "KyeNmxsyBJ2x",
        "outputId": "8f602312-5aa6-4b60-eacd-3160c6801cfb"
      },
      "outputs": [
        {
          "output_type": "stream",
          "name": "stdout",
          "text": [
            "Tensorflow version: 2.14.0\n"
          ]
        }
      ],
      "source": [
        "import tensorflow as tf\n",
        "print(\"Tensorflow version:\", tf.__version__)"
      ]
    },
    {
      "cell_type": "code",
      "source": [
        "mnist = tf.keras.datasets.mnist\n",
        "\n",
        "(x_train, y_train), (x_test, y_test) = mnist.load_data()\n",
        "x_train, x_test = x_train/255.0, x_test/255.0"
      ],
      "metadata": {
        "colab": {
          "base_uri": "https://localhost:8080/"
        },
        "id": "OZY9qNoyBVci",
        "outputId": "25e94f04-a8c0-43fd-f13e-c1ad27912618"
      },
      "execution_count": 2,
      "outputs": [
        {
          "output_type": "stream",
          "name": "stdout",
          "text": [
            "Downloading data from https://storage.googleapis.com/tensorflow/tf-keras-datasets/mnist.npz\n",
            "11490434/11490434 [==============================] - 0s 0us/step\n"
          ]
        }
      ]
    },
    {
      "cell_type": "code",
      "source": [
        "model = tf.keras.models.Sequential([\n",
        "    tf.keras.layers.Flatten(input_shape=(28, 28)),\n",
        "    tf.keras.layers.Dense(128, activation='relu'),\n",
        "    tf.keras.layers.Dropout(0.2),\n",
        "    tf.keras.layers.Dense(10),\n",
        "])"
      ],
      "metadata": {
        "id": "HhvK34qoBU6z"
      },
      "execution_count": 4,
      "outputs": []
    },
    {
      "cell_type": "code",
      "source": [
        "predictions = model(x_train[:1]).numpy()\n",
        "predictions"
      ],
      "metadata": {
        "colab": {
          "base_uri": "https://localhost:8080/"
        },
        "id": "NjON-cvlB3_Z",
        "outputId": "43fcef87-2081-43af-b624-9dc31665aafb"
      },
      "execution_count": 5,
      "outputs": [
        {
          "output_type": "execute_result",
          "data": {
            "text/plain": [
              "array([[ 0.20484863, -0.50352216,  0.01357181,  0.7118029 , -0.12597477,\n",
              "         0.1483432 , -0.45676172, -0.5414475 , -0.64842445,  0.55407435]],\n",
              "      dtype=float32)"
            ]
          },
          "metadata": {},
          "execution_count": 5
        }
      ]
    },
    {
      "cell_type": "code",
      "source": [
        "tf.nn.softmax(predictions).numpy()"
      ],
      "metadata": {
        "colab": {
          "base_uri": "https://localhost:8080/"
        },
        "id": "Zw4XzAmsF5Fh",
        "outputId": "b6ce8343-7f3e-4ba1-a14f-3771ea0f9ff2"
      },
      "execution_count": 7,
      "outputs": [
        {
          "output_type": "execute_result",
          "data": {
            "text/plain": [
              "array([[0.11797884, 0.05809819, 0.09743918, 0.19587164, 0.08474797,\n",
              "        0.11149724, 0.06087941, 0.05593605, 0.05026114, 0.16729036]],\n",
              "      dtype=float32)"
            ]
          },
          "metadata": {},
          "execution_count": 7
        }
      ]
    },
    {
      "cell_type": "code",
      "source": [
        "loss_fn = tf.keras.losses.SparseCategoricalCrossentropy(from_logits=True)\n",
        "loss_fn(y_train[:1], predictions).numpy()"
      ],
      "metadata": {
        "id": "zpJTB6qsOFJ2",
        "colab": {
          "base_uri": "https://localhost:8080/"
        },
        "outputId": "2c73ba9c-bb74-4057-b10e-f0de004cbdf6"
      },
      "execution_count": 9,
      "outputs": [
        {
          "output_type": "execute_result",
          "data": {
            "text/plain": [
              "2.1937554"
            ]
          },
          "metadata": {},
          "execution_count": 9
        }
      ]
    },
    {
      "cell_type": "code",
      "source": [
        "model.compile(optimizer='adam',\n",
        "              loss=loss_fn,\n",
        "              metrics=['accuracy'])"
      ],
      "metadata": {
        "id": "ALk7tJeYO35W"
      },
      "execution_count": 10,
      "outputs": []
    },
    {
      "cell_type": "code",
      "source": [
        "model.fit(x_train, y_train, epochs=5)"
      ],
      "metadata": {
        "colab": {
          "base_uri": "https://localhost:8080/"
        },
        "id": "oHtJ3RbRQDrF",
        "outputId": "e61a72e6-f565-4053-cf10-cddfe9ff0166"
      },
      "execution_count": 11,
      "outputs": [
        {
          "output_type": "stream",
          "name": "stdout",
          "text": [
            "Epoch 1/5\n",
            "1875/1875 [==============================] - 10s 5ms/step - loss: 0.2955 - accuracy: 0.9134\n",
            "Epoch 2/5\n",
            "1875/1875 [==============================] - 7s 4ms/step - loss: 0.1398 - accuracy: 0.9592\n",
            "Epoch 3/5\n",
            "1875/1875 [==============================] - 9s 5ms/step - loss: 0.1064 - accuracy: 0.9681\n",
            "Epoch 4/5\n",
            "1875/1875 [==============================] - 8s 4ms/step - loss: 0.0858 - accuracy: 0.9742\n",
            "Epoch 5/5\n",
            "1875/1875 [==============================] - 7s 4ms/step - loss: 0.0754 - accuracy: 0.9765\n"
          ]
        },
        {
          "output_type": "execute_result",
          "data": {
            "text/plain": [
              "<keras.src.callbacks.History at 0x7c227e79b970>"
            ]
          },
          "metadata": {},
          "execution_count": 11
        }
      ]
    },
    {
      "cell_type": "code",
      "source": [
        "model.evaluate(x_test,  y_test, verbose=2)"
      ],
      "metadata": {
        "colab": {
          "base_uri": "https://localhost:8080/"
        },
        "id": "AH-No7G3QF_I",
        "outputId": "34955f22-3d85-4850-abbb-85cfee709d14"
      },
      "execution_count": 12,
      "outputs": [
        {
          "output_type": "stream",
          "name": "stdout",
          "text": [
            "313/313 - 1s - loss: 0.0764 - accuracy: 0.9766 - 1s/epoch - 5ms/step\n"
          ]
        },
        {
          "output_type": "execute_result",
          "data": {
            "text/plain": [
              "[0.07637681066989899, 0.9765999913215637]"
            ]
          },
          "metadata": {},
          "execution_count": 12
        }
      ]
    },
    {
      "cell_type": "code",
      "source": [
        "proba_model = tf.keras.models.Sequential([\n",
        "    model,\n",
        "    tf.keras.layers.Softmax()\n",
        "])"
      ],
      "metadata": {
        "id": "ORqVJkukQaCQ"
      },
      "execution_count": 13,
      "outputs": []
    },
    {
      "cell_type": "code",
      "source": [
        "proba_model(x_test[:5]).numpy()"
      ],
      "metadata": {
        "colab": {
          "base_uri": "https://localhost:8080/"
        },
        "id": "msm_5lgWY625",
        "outputId": "fbbbb06f-26f4-4da7-b6f4-6cd72f49cc20"
      },
      "execution_count": 14,
      "outputs": [
        {
          "output_type": "execute_result",
          "data": {
            "text/plain": [
              "array([[1.3859881e-09, 1.2745571e-09, 3.4197496e-06, 4.9729219e-06,\n",
              "        3.8000731e-11, 5.8818049e-08, 9.4038201e-14, 9.9998856e-01,\n",
              "        2.6743521e-08, 2.8121053e-06],\n",
              "       [1.6703073e-07, 4.1860738e-05, 9.9973792e-01, 1.9250337e-04,\n",
              "        3.0091957e-14, 2.1965221e-05, 5.1561451e-06, 1.4276269e-11,\n",
              "        4.7105158e-07, 3.5186897e-14],\n",
              "       [5.1581816e-07, 9.9890840e-01, 2.6012965e-05, 3.0806505e-06,\n",
              "        1.1426815e-04, 1.1633562e-05, 5.4511320e-06, 7.3404924e-04,\n",
              "        1.9541735e-04, 1.1802387e-06],\n",
              "       [9.9677086e-01, 8.8237090e-07, 1.4060133e-03, 2.9342211e-06,\n",
              "        2.7053441e-06, 1.3875906e-05, 7.1574912e-05, 1.5540086e-03,\n",
              "        1.0452654e-06, 1.7613902e-04],\n",
              "       [3.0301048e-06, 5.8081602e-09, 3.4084100e-05, 9.2728897e-08,\n",
              "        9.9164152e-01, 1.3504507e-06, 6.5634248e-07, 2.9641078e-04,\n",
              "        3.9801575e-06, 8.0187870e-03]], dtype=float32)"
            ]
          },
          "metadata": {},
          "execution_count": 14
        }
      ]
    },
    {
      "cell_type": "code",
      "source": [],
      "metadata": {
        "id": "eFcT93nDZDj4"
      },
      "execution_count": null,
      "outputs": []
    }
  ]
}